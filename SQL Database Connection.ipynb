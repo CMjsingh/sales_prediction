{
 "cells": [
  {
   "cell_type": "markdown",
   "metadata": {},
   "source": [
    "### Database Connection to fetch data in a dataframe using pandas"
   ]
  },
  {
   "cell_type": "code",
   "execution_count": 2,
   "metadata": {},
   "outputs": [],
   "source": [
    "import pyodbc\n",
    "import pandas as pd"
   ]
  },
  {
   "cell_type": "code",
   "execution_count": 3,
   "metadata": {},
   "outputs": [
    {
     "data": {
      "text/plain": [
       "['SQL Server',\n",
       " 'ODBC Driver 17 for SQL Server',\n",
       " 'SQL Server Native Client 11.0',\n",
       " 'SQL Server Native Client RDA 11.0',\n",
       " 'Microsoft Access Driver (*.mdb, *.accdb)',\n",
       " 'Microsoft Excel Driver (*.xls, *.xlsx, *.xlsm, *.xlsb)',\n",
       " 'Microsoft Access Text Driver (*.txt, *.csv)']"
      ]
     },
     "execution_count": 3,
     "metadata": {},
     "output_type": "execute_result"
    }
   ],
   "source": [
    "pyodbc.drivers() #To check which all drivers are available"
   ]
  },
  {
   "cell_type": "code",
   "execution_count": 4,
   "metadata": {},
   "outputs": [
    {
     "name": "stdout",
     "output_type": "stream",
     "text": [
      "<pyodbc.Connection object at 0x000001D540CB3030>\n"
     ]
    }
   ],
   "source": [
    "connection = pyodbc.connect(\"Driver={ODBC Driver 17 for SQL Server}; Server=SQLSERVERTEST;Database=ExactMAXCaseMedical;uid=sa;pwd=Twotbgrar2020!\")\n",
    "print(connection)"
   ]
  },
  {
   "cell_type": "code",
   "execution_count": 5,
   "metadata": {},
   "outputs": [],
   "source": [
    "cursor=connection.cursor()"
   ]
  },
  {
   "cell_type": "code",
   "execution_count": 6,
   "metadata": {},
   "outputs": [],
   "source": [
    "sql_query=\"SELECT * FROM [ExactMAXCaseMedical].[dbo].[SO_Detail]\""
   ]
  },
  {
   "cell_type": "code",
   "execution_count": 7,
   "metadata": {},
   "outputs": [
    {
     "data": {
      "text/plain": [
       "<pyodbc.Cursor at 0x1d53ebea5b0>"
      ]
     },
     "execution_count": 7,
     "metadata": {},
     "output_type": "execute_result"
    }
   ],
   "source": [
    "cursor.execute(sql_query)"
   ]
  },
  {
   "cell_type": "code",
   "execution_count": 8,
   "metadata": {},
   "outputs": [
    {
     "data": {
      "text/plain": [
       "[('20088593', '01', '01', '4', 'VAME053             ', 'SC02NG                        ', '      ', 'N', '45201                                                                                                                                                          ', datetime.datetime(2014, 1, 2, 0, 0), '  ', datetime.datetime(2014, 1, 2, 0, 0), '  ', datetime.datetime(2014, 1, 2, 0, 0), 0, datetime.datetime(2014, 1, 8, 0, 0), '  ', 'EA', '200885930101             ', 277.39, 7.0, 7.0, 0.0, 7.0, 0.0, 0.0, 7.0, 0.0, 'CU', 'Y', 'Y', 'MED-PART', '   ', 277.39, 'R', 'VW331  ', 0.0, '          ', 0.0, '       ', 0.0, '       ', 0.0, '       ', 0.0, '   ', '   ', '               ', '                         ', 'N', 0.0, 0.0, '        ', 0, 0.0, ' ', datetime.datetime(2014, 1, 2, 0, 0), '                                                                                                    ', '                                                  ', 'marilyn', datetime.datetime(2014, 1, 2, 10, 11, 36, 253000), 'marilyn', datetime.datetime(2018, 3, 22, 12, 59, 46, 660000), datetime.datetime(2014, 1, 2, 0, 0), datetime.datetime(2014, 1, 2, 0, 0), '   ', 'N', 277.39, 2, '                                                                                                                                                               ', 0.0, '                                                                                                                                                               ', None, 0.0, 0.0, '        '),\n",
       " ('20088593', '02', '01', '4', 'VAME053             ', 'STN1                          ', '      ', 'N', '45201                                                                                                                                                          ', datetime.datetime(2014, 1, 2, 0, 0), '  ', datetime.datetime(2014, 1, 2, 0, 0), '  ', datetime.datetime(2014, 1, 2, 0, 0), 0, datetime.datetime(2014, 1, 8, 0, 0), '  ', 'EA', '200885930201             ', 57.28, 7.0, 7.0, 0.0, 7.0, 0.0, 0.0, 7.0, 0.0, 'CU', 'Y', 'Y', 'FGB1B   ', '   ', 57.28, 'R', 'VW331  ', 0.0, '          ', 0.0, '       ', 0.0, '       ', 0.0, '       ', 0.0, '   ', '   ', '               ', '                         ', 'N', 0.0, 0.0, '        ', 0, 0.0, ' ', datetime.datetime(2014, 1, 2, 0, 0), '                                                                                                    ', '                                                  ', 'marilyn', datetime.datetime(2014, 1, 2, 10, 11, 49, 277000), 'marilyn', datetime.datetime(2018, 3, 22, 12, 59, 46, 660000), datetime.datetime(2014, 1, 2, 0, 0), datetime.datetime(2014, 1, 2, 0, 0), '   ', 'N', 57.28, 2, '                                                                                                                                                               ', 0.0, '                                                                                                                                                               ', None, 0.0, 0.0, '        '),\n",
       " ('20088593', '03', '01', '4', 'VAME053             ', 'SCPLQ4C                       ', '      ', 'N', '45201                                                                                                                                                          ', datetime.datetime(2014, 1, 2, 0, 0), '  ', datetime.datetime(2014, 1, 2, 0, 0), '  ', datetime.datetime(2014, 1, 2, 0, 0), 0, datetime.datetime(2014, 1, 8, 0, 0), '  ', 'EA', '200885930301             ', 7.0, 7.0, 7.0, 0.0, 7.0, 0.0, 0.0, 7.0, 0.0, 'CU', 'Y', 'Y', 'FGE2A   ', '   ', 7.0, 'R', 'VW331  ', 0.0, '          ', 0.0, '       ', 0.0, '       ', 0.0, '       ', 0.0, '   ', '   ', '               ', '                         ', 'N', 0.0, 0.0, '        ', 0, 0.0, ' ', datetime.datetime(2014, 1, 2, 0, 0), '                                                                                                    ', '                                                  ', 'marilyn', datetime.datetime(2014, 1, 2, 10, 12, 13, 373000), 'marilyn', datetime.datetime(2018, 3, 22, 12, 59, 46, 660000), datetime.datetime(2014, 1, 2, 0, 0), datetime.datetime(2014, 1, 2, 0, 0), '   ', 'N', 7.0, 2, '                                                                                                                                                               ', 0.0, '                                                                                                                                                               ', None, 0.0, 0.0, '        '),\n",
       " ('20088593', '04', '01', '4', 'VAME053             ', 'BES002                        ', '      ', 'N', '45201                                                                                                                                                          ', datetime.datetime(2014, 3, 11, 0, 0), '  ', datetime.datetime(2014, 3, 11, 0, 0), '  ', datetime.datetime(2014, 3, 11, 0, 0), 0, datetime.datetime(2014, 1, 8, 0, 0), '  ', 'EA', '200885930401             ', 10.87, 14.0, 14.0, 0.0, 14.0, 0.0, 0.0, 14.0, 0.0, 'CU', 'Y', 'Y', 'FGA2B   ', '   ', 10.87, 'R', 'VW331  ', 0.0, '          ', 0.0, '       ', 0.0, '       ', 0.0, '       ', 0.0, '   ', '   ', '               ', '                         ', 'N', 2.71, 0.0, '        ', 0, 0.0, ' ', datetime.datetime(2014, 1, 2, 0, 0), '                                                                                                    ', '                                                  ', 'marilyn', datetime.datetime(2014, 1, 2, 10, 12, 39, 600000), 'marilyn', datetime.datetime(2018, 3, 22, 12, 59, 46, 660000), datetime.datetime(2014, 1, 2, 0, 0), datetime.datetime(2014, 1, 2, 0, 0), '   ', 'N', 10.87, 2, '                                                                                                                                                               ', 0.0, '                                                                                                                                                               ', None, 0.0, 0.0, '        '),\n",
       " ('20088593', '05', '01', '4', 'VAME053             ', 'POST01                        ', '      ', 'N', '45201                                                                                                                                                          ', datetime.datetime(2014, 1, 16, 0, 0), '  ', datetime.datetime(2014, 1, 16, 0, 0), '  ', datetime.datetime(2014, 1, 16, 0, 0), 0, datetime.datetime(2014, 1, 8, 0, 0), '  ', 'EA', '200885930501             ', 3.8, 35.0, 35.0, 0.0, 35.0, 0.0, 0.0, 35.0, 0.0, 'CU', 'Y', 'Y', 'FGA1C   ', '   ', 3.8, 'R', 'VW331  ', 0.0, '          ', 0.0, '       ', 0.0, '       ', 0.0, '       ', 0.0, '   ', '   ', '               ', '                         ', 'N', 2.1, 0.0, '        ', 0, 0.0, ' ', datetime.datetime(2014, 1, 2, 0, 0), '                                                                                                    ', '                                                  ', 'marilyn', datetime.datetime(2014, 1, 2, 10, 12, 59, 10000), 'marilyn', datetime.datetime(2018, 3, 22, 12, 59, 46, 660000), datetime.datetime(2014, 1, 2, 0, 0), datetime.datetime(2014, 1, 2, 0, 0), '   ', 'N', 3.8, 2, '                                                                                                                                                               ', 0.0, '                                                                                                                                                               ', None, 0.0, 0.0, '        ')]"
      ]
     },
     "execution_count": 8,
     "metadata": {},
     "output_type": "execute_result"
    }
   ],
   "source": [
    "data=cursor.fetchall()\n",
    "data[:5]"
   ]
  },
  {
   "cell_type": "code",
   "execution_count": 9,
   "metadata": {},
   "outputs": [],
   "source": [
    "# To get data in a proper dataframe format- use Pandas\n",
    "\n",
    "df= pd.read_sql(sql_query, connection)"
   ]
  },
  {
   "cell_type": "code",
   "execution_count": 10,
   "metadata": {},
   "outputs": [
    {
     "data": {
      "text/html": [
       "<div>\n",
       "<style scoped>\n",
       "    .dataframe tbody tr th:only-of-type {\n",
       "        vertical-align: middle;\n",
       "    }\n",
       "\n",
       "    .dataframe tbody tr th {\n",
       "        vertical-align: top;\n",
       "    }\n",
       "\n",
       "    .dataframe thead th {\n",
       "        text-align: right;\n",
       "    }\n",
       "</style>\n",
       "<table border=\"1\" class=\"dataframe\">\n",
       "  <thead>\n",
       "    <tr style=\"text-align: right;\">\n",
       "      <th></th>\n",
       "      <th>ORDNUM_28</th>\n",
       "      <th>LINNUM_28</th>\n",
       "      <th>DELNUM_28</th>\n",
       "      <th>STATUS_28</th>\n",
       "      <th>CUSTID_28</th>\n",
       "      <th>PRTNUM_28</th>\n",
       "      <th>EDILIN_28</th>\n",
       "      <th>TAXABL_28</th>\n",
       "      <th>GLXREF_28</th>\n",
       "      <th>CURDUE_28</th>\n",
       "      <th>...</th>\n",
       "      <th>MANPRC_28</th>\n",
       "      <th>ORGPRC_28</th>\n",
       "      <th>PRCALC_28</th>\n",
       "      <th>CLASS_28</th>\n",
       "      <th>WARRES_28</th>\n",
       "      <th>JOB_28</th>\n",
       "      <th>CSENDDTE_28</th>\n",
       "      <th>CONSGND_28</th>\n",
       "      <th>CURCONSGND_28</th>\n",
       "      <th>CONSIGNSTK_28</th>\n",
       "    </tr>\n",
       "  </thead>\n",
       "  <tbody>\n",
       "    <tr>\n",
       "      <th>0</th>\n",
       "      <td>20088593</td>\n",
       "      <td>01</td>\n",
       "      <td>01</td>\n",
       "      <td>4</td>\n",
       "      <td>VAME053</td>\n",
       "      <td>SC02NG</td>\n",
       "      <td></td>\n",
       "      <td>N</td>\n",
       "      <td>45201                                         ...</td>\n",
       "      <td>2014-01-02</td>\n",
       "      <td>...</td>\n",
       "      <td>N</td>\n",
       "      <td>277.39</td>\n",
       "      <td>2</td>\n",
       "      <td>...</td>\n",
       "      <td>0.0</td>\n",
       "      <td>...</td>\n",
       "      <td>None</td>\n",
       "      <td>0.0</td>\n",
       "      <td>0.0</td>\n",
       "      <td></td>\n",
       "    </tr>\n",
       "    <tr>\n",
       "      <th>1</th>\n",
       "      <td>20088593</td>\n",
       "      <td>02</td>\n",
       "      <td>01</td>\n",
       "      <td>4</td>\n",
       "      <td>VAME053</td>\n",
       "      <td>STN1</td>\n",
       "      <td></td>\n",
       "      <td>N</td>\n",
       "      <td>45201                                         ...</td>\n",
       "      <td>2014-01-02</td>\n",
       "      <td>...</td>\n",
       "      <td>N</td>\n",
       "      <td>57.28</td>\n",
       "      <td>2</td>\n",
       "      <td>...</td>\n",
       "      <td>0.0</td>\n",
       "      <td>...</td>\n",
       "      <td>None</td>\n",
       "      <td>0.0</td>\n",
       "      <td>0.0</td>\n",
       "      <td></td>\n",
       "    </tr>\n",
       "    <tr>\n",
       "      <th>2</th>\n",
       "      <td>20088593</td>\n",
       "      <td>03</td>\n",
       "      <td>01</td>\n",
       "      <td>4</td>\n",
       "      <td>VAME053</td>\n",
       "      <td>SCPLQ4C</td>\n",
       "      <td></td>\n",
       "      <td>N</td>\n",
       "      <td>45201                                         ...</td>\n",
       "      <td>2014-01-02</td>\n",
       "      <td>...</td>\n",
       "      <td>N</td>\n",
       "      <td>7.00</td>\n",
       "      <td>2</td>\n",
       "      <td>...</td>\n",
       "      <td>0.0</td>\n",
       "      <td>...</td>\n",
       "      <td>None</td>\n",
       "      <td>0.0</td>\n",
       "      <td>0.0</td>\n",
       "      <td></td>\n",
       "    </tr>\n",
       "    <tr>\n",
       "      <th>3</th>\n",
       "      <td>20088593</td>\n",
       "      <td>04</td>\n",
       "      <td>01</td>\n",
       "      <td>4</td>\n",
       "      <td>VAME053</td>\n",
       "      <td>BES002</td>\n",
       "      <td></td>\n",
       "      <td>N</td>\n",
       "      <td>45201                                         ...</td>\n",
       "      <td>2014-03-11</td>\n",
       "      <td>...</td>\n",
       "      <td>N</td>\n",
       "      <td>10.87</td>\n",
       "      <td>2</td>\n",
       "      <td>...</td>\n",
       "      <td>0.0</td>\n",
       "      <td>...</td>\n",
       "      <td>None</td>\n",
       "      <td>0.0</td>\n",
       "      <td>0.0</td>\n",
       "      <td></td>\n",
       "    </tr>\n",
       "    <tr>\n",
       "      <th>4</th>\n",
       "      <td>20088593</td>\n",
       "      <td>05</td>\n",
       "      <td>01</td>\n",
       "      <td>4</td>\n",
       "      <td>VAME053</td>\n",
       "      <td>POST01</td>\n",
       "      <td></td>\n",
       "      <td>N</td>\n",
       "      <td>45201                                         ...</td>\n",
       "      <td>2014-01-16</td>\n",
       "      <td>...</td>\n",
       "      <td>N</td>\n",
       "      <td>3.80</td>\n",
       "      <td>2</td>\n",
       "      <td>...</td>\n",
       "      <td>0.0</td>\n",
       "      <td>...</td>\n",
       "      <td>None</td>\n",
       "      <td>0.0</td>\n",
       "      <td>0.0</td>\n",
       "      <td></td>\n",
       "    </tr>\n",
       "  </tbody>\n",
       "</table>\n",
       "<p>5 rows × 76 columns</p>\n",
       "</div>"
      ],
      "text/plain": [
       "  ORDNUM_28 LINNUM_28 DELNUM_28 STATUS_28             CUSTID_28  \\\n",
       "0  20088593        01        01         4  VAME053                \n",
       "1  20088593        02        01         4  VAME053                \n",
       "2  20088593        03        01         4  VAME053                \n",
       "3  20088593        04        01         4  VAME053                \n",
       "4  20088593        05        01         4  VAME053                \n",
       "\n",
       "                        PRTNUM_28 EDILIN_28 TAXABL_28  \\\n",
       "0  SC02NG                                           N   \n",
       "1  STN1                                             N   \n",
       "2  SCPLQ4C                                          N   \n",
       "3  BES002                                           N   \n",
       "4  POST01                                           N   \n",
       "\n",
       "                                           GLXREF_28  CURDUE_28  ...  \\\n",
       "0  45201                                         ... 2014-01-02  ...   \n",
       "1  45201                                         ... 2014-01-02  ...   \n",
       "2  45201                                         ... 2014-01-02  ...   \n",
       "3  45201                                         ... 2014-03-11  ...   \n",
       "4  45201                                         ... 2014-01-16  ...   \n",
       "\n",
       "  MANPRC_28 ORGPRC_28 PRCALC_28  \\\n",
       "0         N    277.39         2   \n",
       "1         N     57.28         2   \n",
       "2         N      7.00         2   \n",
       "3         N     10.87         2   \n",
       "4         N      3.80         2   \n",
       "\n",
       "                                            CLASS_28  WARRES_28  \\\n",
       "0                                                ...        0.0   \n",
       "1                                                ...        0.0   \n",
       "2                                                ...        0.0   \n",
       "3                                                ...        0.0   \n",
       "4                                                ...        0.0   \n",
       "\n",
       "                                              JOB_28 CSENDDTE_28 CONSGND_28  \\\n",
       "0                                                ...        None        0.0   \n",
       "1                                                ...        None        0.0   \n",
       "2                                                ...        None        0.0   \n",
       "3                                                ...        None        0.0   \n",
       "4                                                ...        None        0.0   \n",
       "\n",
       "  CURCONSGND_28  CONSIGNSTK_28  \n",
       "0           0.0                 \n",
       "1           0.0                 \n",
       "2           0.0                 \n",
       "3           0.0                 \n",
       "4           0.0                 \n",
       "\n",
       "[5 rows x 76 columns]"
      ]
     },
     "execution_count": 10,
     "metadata": {},
     "output_type": "execute_result"
    }
   ],
   "source": [
    "df.head(5)"
   ]
  },
  {
   "cell_type": "code",
   "execution_count": 11,
   "metadata": {},
   "outputs": [
    {
     "data": {
      "text/plain": [
       "(220245, 76)"
      ]
     },
     "execution_count": 11,
     "metadata": {},
     "output_type": "execute_result"
    }
   ],
   "source": [
    "df.shape"
   ]
  },
  {
   "cell_type": "code",
   "execution_count": null,
   "metadata": {},
   "outputs": [],
   "source": []
  },
  {
   "cell_type": "code",
   "execution_count": null,
   "metadata": {},
   "outputs": [],
   "source": []
  },
  {
   "cell_type": "code",
   "execution_count": null,
   "metadata": {},
   "outputs": [],
   "source": []
  }
 ],
 "metadata": {
  "kernelspec": {
   "display_name": "Python 3",
   "language": "python",
   "name": "python3"
  },
  "language_info": {
   "codemirror_mode": {
    "name": "ipython",
    "version": 3
   },
   "file_extension": ".py",
   "mimetype": "text/x-python",
   "name": "python",
   "nbconvert_exporter": "python",
   "pygments_lexer": "ipython3",
   "version": "3.8.5"
  }
 },
 "nbformat": 4,
 "nbformat_minor": 5
}
